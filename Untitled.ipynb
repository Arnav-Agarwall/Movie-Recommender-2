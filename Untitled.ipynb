{
 "cells": [
  {
   "cell_type": "code",
   "execution_count": 6,
   "id": "b8bf0ab7-0eb0-4676-bbd1-8666be067961",
   "metadata": {},
   "outputs": [
    {
     "name": "stdout",
     "output_type": "stream",
     "text": [
      "Recommended Movies: [\"Pirates of the Caribbean: At World's End\", 'Skin Trade', 'Awake', 'Polisse', 'Beneath Hill 60', 'The I Inside', 'Ultramarines: A Warhammer 40,000 Movie', 'Crocodile Dundee', 'Veronika Decides to Die', 'La Fille du RER']\n"
     ]
    },
    {
     "name": "stderr",
     "output_type": "stream",
     "text": [
      "C:\\Users\\Arnav\\AppData\\Local\\Temp\\ipykernel_11104\\120134723.py:36: SettingWithCopyWarning: \n",
      "A value is trying to be set on a copy of a slice from a DataFrame.\n",
      "Try using .loc[row_indexer,col_indexer] = value instead\n",
      "\n",
      "See the caveats in the documentation: https://pandas.pydata.org/pandas-docs/stable/user_guide/indexing.html#returning-a-view-versus-a-copy\n",
      "  input_movies['weight'] = input_movies['original_title'].str.lower().map(\n"
     ]
    }
   ],
   "source": [
    "import pandas as pd\n",
    "from sklearn.metrics.pairwise import cosine_similarity\n",
    "from sklearn.preprocessing import MinMaxScaler\n",
    "\n",
    "# Load dataset\n",
    "movies_df = pd.read_csv(\"tmdb_5000_movies.csv\")\n",
    "\n",
    "# Select relevant columns for reviews\n",
    "movies_df = movies_df[['id', 'original_title', 'vote_average', 'vote_count']]\n",
    "\n",
    "# Normalize review-related columns\n",
    "scaler = MinMaxScaler()\n",
    "movies_df[['vote_average', 'vote_count']] = scaler.fit_transform(movies_df[['vote_average', 'vote_count']])\n",
    "\n",
    "# Function to compute recommendations based on reviews and user ratings\n",
    "def recommend_by_reviews_with_ratings(movie_ratings, num_recommendations=10):\n",
    "    \"\"\"\n",
    "    Args:\n",
    "        movie_ratings: A dictionary where keys are movie titles and values are user ratings.\n",
    "        num_recommendations: Number of recommendations to return.\n",
    "        \n",
    "    Returns:\n",
    "        A list of recommended movies or an error message.\n",
    "    \"\"\"\n",
    "    # Validate input movies\n",
    "    input_movies = movies_df[movies_df['original_title'].str.lower().isin([title.lower() for title in movie_ratings.keys()])]\n",
    "    if input_movies.empty:\n",
    "        return None, \"None of the input movies were found in the dataset.\"\n",
    "\n",
    "    # Normalize user ratings to a scale of 0-1\n",
    "    max_rating = max(movie_ratings.values())\n",
    "    min_rating = min(movie_ratings.values())\n",
    "    normalized_ratings = {title: (rating - min_rating) / (max_rating - min_rating) for title, rating in movie_ratings.items()}\n",
    "\n",
    "    # Compute the weighted profile\n",
    "    input_movies['weight'] = input_movies['original_title'].str.lower().map(\n",
    "        lambda title: normalized_ratings.get(title, 0)\n",
    "    )\n",
    "    weighted_profile = (input_movies[['vote_average', 'vote_count']].T * input_movies['weight']).sum(axis=1)\n",
    "    weighted_profile = weighted_profile.values.reshape(1, -1)\n",
    "\n",
    "    # Calculate cosine similarity with all movies\n",
    "    similarity_scores = cosine_similarity(weighted_profile, movies_df[['vote_average', 'vote_count']])\n",
    "    similarity_scores = similarity_scores.flatten()\n",
    "\n",
    "    # Rank movies based on similarity, excluding input movies\n",
    "    movies_df['similarity'] = similarity_scores\n",
    "    recommendations = (\n",
    "        movies_df[~movies_df['original_title'].str.lower().isin([title.lower() for title in movie_ratings.keys()])]\n",
    "        .sort_values(by='similarity', ascending=False)\n",
    "        .head(num_recommendations)\n",
    "    )\n",
    "\n",
    "    return recommendations['original_title'].tolist(), None\n",
    "\n",
    "# Example Usage\n",
    "user_ratings = {\"Avatar\": 4, \"Titanic\": 5}\n",
    "recommendations, error = recommend_by_reviews_with_ratings(user_ratings)\n",
    "if error:\n",
    "    print(error)\n",
    "else:\n",
    "    print(\"Recommended Movies:\", recommendations)\n"
   ]
  },
  {
   "cell_type": "code",
   "execution_count": null,
   "id": "34e7421e-ef0c-4069-9772-15ec0e329491",
   "metadata": {},
   "outputs": [],
   "source": []
  }
 ],
 "metadata": {
  "kernelspec": {
   "display_name": "Python 3 (ipykernel)",
   "language": "python",
   "name": "python3"
  },
  "language_info": {
   "codemirror_mode": {
    "name": "ipython",
    "version": 3
   },
   "file_extension": ".py",
   "mimetype": "text/x-python",
   "name": "python",
   "nbconvert_exporter": "python",
   "pygments_lexer": "ipython3",
   "version": "3.11.9"
  }
 },
 "nbformat": 4,
 "nbformat_minor": 5
}
